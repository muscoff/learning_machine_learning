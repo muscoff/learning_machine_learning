{
 "cells": [
  {
   "cell_type": "markdown",
   "id": "056995ad",
   "metadata": {},
   "source": [
    "In this project, I am working with a csv file that contains data for the music that young men and women listen to within the age range of 20 to 30 years.\n",
    "The data does not contain missing data and so it does not require any cleaning.\n",
    "\n",
    "The goal of this project is to use the DecisionTreeClassifier from the sklearn.tree module to make predictions of the music genre a young man/young might listen to if I pass in the age and gender variable.\n",
    "\n",
    "Note1\n",
    "From the DecisionTree documentation, https://scikit-learn.org/stable/modules/tree.html, the decision tree does not support datasets with missing data so if anyone is planning on using the DecisionTreeClassifier module, you have to make sure to clean your data and remove all missing data before you pass that data to the fit function\n",
    "\n",
    "Note2\n",
    "It is also stated in the documentation that although it is able to handle both numerical and categorical data, scikit-learn implementation does not support categorical data for now.\n",
    "\n",
    "It is very important to bare this mind before manipulating the data.\n",
    "\n",
    "\n",
    "IMPLEMENTATION\n",
    "- I am first going to import the pandas module in this worksheet. I am using the pandas module to read data from the csv file\n",
    "- I am importing DecisionTreeClassifier from the sklear.tree module\n",
    "- I am import train_test_split from sklearn.model_selection to train and split the input and output\n",
    "- I am also using the accuracy_score from the sklearn.metrics module to test the accuracy of my predictions"
   ]
  },
  {
   "cell_type": "code",
   "execution_count": 173,
   "id": "e0cd842c",
   "metadata": {},
   "outputs": [],
   "source": [
    "import pandas as pd\n",
    "from sklearn.tree import DecisionTreeClassifier\n",
    "from sklearn.model_selection import train_test_split\n",
    "from sklearn.metrics import accuracy_score"
   ]
  },
  {
   "cell_type": "code",
   "execution_count": 174,
   "id": "400e13fc",
   "metadata": {},
   "outputs": [],
   "source": [
    "# Read data from a csv file\n",
    "music_data = pd.read_csv('music.csv')"
   ]
  },
  {
   "cell_type": "code",
   "execution_count": 175,
   "id": "6cabd20b",
   "metadata": {},
   "outputs": [
    {
     "data": {
      "text/html": [
       "<div>\n",
       "<style scoped>\n",
       "    .dataframe tbody tr th:only-of-type {\n",
       "        vertical-align: middle;\n",
       "    }\n",
       "\n",
       "    .dataframe tbody tr th {\n",
       "        vertical-align: top;\n",
       "    }\n",
       "\n",
       "    .dataframe thead th {\n",
       "        text-align: right;\n",
       "    }\n",
       "</style>\n",
       "<table border=\"1\" class=\"dataframe\">\n",
       "  <thead>\n",
       "    <tr style=\"text-align: right;\">\n",
       "      <th></th>\n",
       "      <th>age</th>\n",
       "      <th>gender</th>\n",
       "      <th>genre</th>\n",
       "    </tr>\n",
       "  </thead>\n",
       "  <tbody>\n",
       "    <tr>\n",
       "      <th>0</th>\n",
       "      <td>20</td>\n",
       "      <td>1</td>\n",
       "      <td>HipHop</td>\n",
       "    </tr>\n",
       "    <tr>\n",
       "      <th>1</th>\n",
       "      <td>23</td>\n",
       "      <td>1</td>\n",
       "      <td>HipHop</td>\n",
       "    </tr>\n",
       "    <tr>\n",
       "      <th>2</th>\n",
       "      <td>25</td>\n",
       "      <td>1</td>\n",
       "      <td>HipHop</td>\n",
       "    </tr>\n",
       "    <tr>\n",
       "      <th>3</th>\n",
       "      <td>26</td>\n",
       "      <td>1</td>\n",
       "      <td>Jazz</td>\n",
       "    </tr>\n",
       "    <tr>\n",
       "      <th>4</th>\n",
       "      <td>29</td>\n",
       "      <td>1</td>\n",
       "      <td>Jazz</td>\n",
       "    </tr>\n",
       "  </tbody>\n",
       "</table>\n",
       "</div>"
      ],
      "text/plain": [
       "   age  gender   genre\n",
       "0   20       1  HipHop\n",
       "1   23       1  HipHop\n",
       "2   25       1  HipHop\n",
       "3   26       1    Jazz\n",
       "4   29       1    Jazz"
      ]
     },
     "execution_count": 175,
     "metadata": {},
     "output_type": "execute_result"
    }
   ],
   "source": [
    "# View the first five(5) records of our data\n",
    "music_data.head()"
   ]
  },
  {
   "cell_type": "code",
   "execution_count": 176,
   "id": "51035ec7",
   "metadata": {},
   "outputs": [
    {
     "name": "stdout",
     "output_type": "stream",
     "text": [
      "<class 'pandas.core.frame.DataFrame'>\n",
      "RangeIndex: 18 entries, 0 to 17\n",
      "Data columns (total 3 columns):\n",
      " #   Column  Non-Null Count  Dtype \n",
      "---  ------  --------------  ----- \n",
      " 0   age     18 non-null     int64 \n",
      " 1   gender  18 non-null     int64 \n",
      " 2   genre   18 non-null     object\n",
      "dtypes: int64(2), object(1)\n",
      "memory usage: 560.0+ bytes\n"
     ]
    }
   ],
   "source": [
    "music_data.info()"
   ]
  },
  {
   "cell_type": "markdown",
   "id": "dade4027",
   "metadata": {},
   "source": [
    "From the above information, we can see that we have two columns[age, gender] which contains numerical data and one column[genre]  that contains categorical data\n",
    "\n",
    "In this project implementation, I will be making predictions of music genre an individual of a certain age and gender might prefer to listen.\n",
    "With this in mind, I am splitting the data into two sets.\n",
    "One set would be for input [age, gender] and the other would be output [genre]"
   ]
  },
  {
   "cell_type": "code",
   "execution_count": 177,
   "id": "d0b56142",
   "metadata": {},
   "outputs": [],
   "source": [
    "# Get the genre column\n",
    "output = music_data['genre']"
   ]
  },
  {
   "cell_type": "code",
   "execution_count": 178,
   "id": "af37aaa5",
   "metadata": {},
   "outputs": [],
   "source": [
    "# Drop the genre column to have only the age and gender columns\n",
    "input_data = music_data.drop(columns=['genre'])"
   ]
  },
  {
   "cell_type": "markdown",
   "id": "1d834132",
   "metadata": {},
   "source": [
    "If we want to mutate the gender column and change it from numerical to categorical data by assigning \"male\" or \"female\"\n",
    "based on the numeric value, this is how we will go about it\n",
    "\n",
    "new_music_data['gender'] = [\"male\" if new_music_data.loc[i, 'gender'] == 1 else \"female\" for i in new_music_data.index]"
   ]
  },
  {
   "cell_type": "markdown",
   "id": "6865353a",
   "metadata": {},
   "source": [
    "I am going to use the train_test_split to train certain portion of the data and also use a defined portion for testing.\n",
    "In this case, I am going to use 20% of the data for testing and the rest of the data for training my model"
   ]
  },
  {
   "cell_type": "code",
   "execution_count": 206,
   "id": "d0b44b80",
   "metadata": {},
   "outputs": [
    {
     "data": {
      "text/plain": [
       "0.75"
      ]
     },
     "execution_count": 206,
     "metadata": {},
     "output_type": "execute_result"
    }
   ],
   "source": [
    "X_train, X_test, y_train, y_test = train_test_split(X, y, test_size=0.2)\n",
    "\n",
    "# I am instantiating the DecisionTreeClassifier and I am assigning that to the variable model\n",
    "model = DecisionTreeClassifier()\n",
    "\n",
    "# I am training my data\n",
    "model.fit(X_train, y_train)\n",
    "\n",
    "# I am making predictions here\n",
    "predictions = model.predict(X_test)\n",
    "\n",
    "# I also want to test the accurancy of my predictions hence I am passing the expected test data and predictions into the \n",
    "# accurancy_score function to get the value of the accurancy of my predictions\n",
    "score = accuracy_score(y_test, predictions)\n",
    "\n",
    "score"
   ]
  }
 ],
 "metadata": {
  "kernelspec": {
   "display_name": "Python 3 (ipykernel)",
   "language": "python",
   "name": "python3"
  },
  "language_info": {
   "codemirror_mode": {
    "name": "ipython",
    "version": 3
   },
   "file_extension": ".py",
   "mimetype": "text/x-python",
   "name": "python",
   "nbconvert_exporter": "python",
   "pygments_lexer": "ipython3",
   "version": "3.7.3"
  }
 },
 "nbformat": 4,
 "nbformat_minor": 5
}
